{
 "cells": [
  {
   "cell_type": "code",
   "execution_count": 5,
   "id": "initial_id",
   "metadata": {
    "collapsed": true,
    "ExecuteTime": {
     "end_time": "2024-02-08T15:44:10.687561400Z",
     "start_time": "2024-02-08T15:44:10.671560300Z"
    }
   },
   "outputs": [],
   "source": [
    "import os\n",
    "import tensorflow as tf\n",
    "import pandas as pd\n",
    "import numpy as np\n",
    "from tensorflow.keras.preprocessing.image import ImageDataGenerator\n",
    "from sklearn.model_selection import train_test_split\n",
    "from sklearn.metrics import accuracy_score\n",
    "import matplotlib.pyplot as plt"
   ]
  },
  {
   "cell_type": "code",
   "execution_count": 2,
   "outputs": [
    {
     "name": "stdout",
     "output_type": "stream",
     "text": [
      "Index(['image_Addr', 'label_image'], dtype='object')\n",
      "Validation Size = 142, Train Size = 424\n",
      "Found 142 validated image filenames belonging to 5 classes.\n"
     ]
    }
   ],
   "source": [
    "df = pd.read_csv(\"../data/x_ray/labels_x_ray.csv\")\n",
    "with open(\"../data/strict_bad_files.txt\", \"r\") as f:\n",
    "    lines = f.readlines()\n",
    "    bad_files = [l.strip() for l in lines]\n",
    "\n",
    "filtered_df = df[~df['image_Addr'].isin(bad_files)].drop_duplicates()\n",
    "\n",
    "datadir = \"../data/new_x_ray\"\n",
    "num_classes = 5 \n",
    "filtered_df[['label_image']] = filtered_df[['label_image']] - 1\n",
    "img_size = 224\n",
    "batch_size = 32\n",
    "target_size = (img_size, img_size)\n",
    "print(df.columns)\n",
    "filtered_df['label_image'] = filtered_df['label_image'].apply(str)\n",
    "\n",
    "train_files, valid_files = train_test_split(filtered_df['image_Addr'],\n",
    "                                            test_size=0.25,\n",
    "                                            random_state=2024,\n",
    "                                            stratify=filtered_df['label_image'])\n",
    "\n",
    "train_df = filtered_df[filtered_df['image_Addr'].isin(train_files)]\n",
    "valid_df = filtered_df[filtered_df['image_Addr'].isin(valid_files)]\n",
    "print(f\"Validation Size = {valid_df.shape[0]}, Train Size = {train_df.shape[0]}\")\n",
    "\n",
    "label_decoding = {0: \"Dandan\", 1: \"JomJome\", 2: \"Sine\", 3: \"Dast\", 4: \"Pa\"}\n",
    "model = tf.keras.models.load_model(\"../model/vgg16-0.96-full_model.h5\")\n",
    "\n",
    "val_datagen = ImageDataGenerator(rescale=1. / 255)\n",
    "val_generator = val_datagen.flow_from_dataframe(\n",
    "    valid_df,\n",
    "    directory=datadir,\n",
    "    x_col='image_Addr',\n",
    "    y_col='label_image',\n",
    "    class_mode='categorical',\n",
    "    target_size=target_size,\n",
    "    batch_size=batch_size,\n",
    "    color_mode='rgb',\n",
    "    shuffle=False\n",
    ")"
   ],
   "metadata": {
    "collapsed": false,
    "ExecuteTime": {
     "end_time": "2024-02-08T15:43:45.633276400Z",
     "start_time": "2024-02-08T15:43:44.565276400Z"
    }
   },
   "id": "d44f480d7a87a2a6"
  },
  {
   "cell_type": "code",
   "execution_count": 6,
   "outputs": [
    {
     "name": "stdout",
     "output_type": "stream",
     "text": [
      "4/4 [==============================] - 1s 220ms/step\n",
      "Accuracy on Test Data: 0.96%\n",
      "              precision    recall  f1-score   support\n",
      "\n",
      "           0       1.00      0.93      0.96        27\n",
      "           1       1.00      0.92      0.96        24\n",
      "           2       0.97      1.00      0.98        29\n",
      "           3       1.00      0.96      0.98        25\n",
      "           4       0.85      1.00      0.92        23\n",
      "\n",
      "    accuracy                           0.96       128\n",
      "   macro avg       0.96      0.96      0.96       128\n",
      "weighted avg       0.97      0.96      0.96       128\n"
     ]
    },
    {
     "data": {
      "text/plain": "<Figure size 640x480 with 2 Axes>",
      "image/png": "[encoded data removed]"
     },
     "metadata": {},
     "output_type": "display_data"
    }
   ],
   "source": [
    "from sklearn.metrics import confusion_matrix\n",
    "from sklearn.metrics import classification_report, ConfusionMatrixDisplay\n",
    "\n",
    "preds = model.predict(val_generator,steps = valid_df.shape[0]//batch_size, verbose=1)\n",
    "predicted_class_indices = np.argmax(preds,axis=1)\n",
    "labels = valid_df['label_image'][0:len(predicted_class_indices)].apply(int)\n",
    "print('Accuracy on Test Data: %2.2f%%' % (accuracy_score(labels, predicted_class_indices)))\n",
    "print(classification_report(labels, predicted_class_indices))\n",
    "cm = confusion_matrix(predicted_class_indices, labels)\n",
    "ConfusionMatrixDisplay(cm).plot()\n",
    "plt.show()"
   ],
   "metadata": {
    "collapsed": false,
    "ExecuteTime": {
     "end_time": "2024-02-08T15:44:13.901062600Z",
     "start_time": "2024-02-08T15:44:12.691009200Z"
    }
   },
   "id": "36dfd6a7d682b1b3"
  },
  {
   "cell_type": "code",
   "execution_count": null,
   "outputs": [],
   "source": [],
   "metadata": {
    "collapsed": false
   },
   "id": "c1270e186ea025a6"
  }
 ],
 "metadata": {
  "kernelspec": {
   "display_name": "Python 3",
   "language": "python",
   "name": "python3"
  },
  "language_info": {
   "codemirror_mode": {
    "name": "ipython",
    "version": 2
   },
   "file_extension": ".py",
   "mimetype": "text/x-python",
   "name": "python",
   "nbconvert_exporter": "python",
   "pygments_lexer": "ipython2",
   "version": "2.7.6"
  }
 },
 "nbformat": 4,
 "nbformat_minor": 5
}
