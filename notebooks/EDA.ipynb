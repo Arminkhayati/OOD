{
 "cells": [
  {
   "cell_type": "code",
   "execution_count": 1,
   "id": "initial_id",
   "metadata": {
    "collapsed": true,
    "ExecuteTime": {
     "end_time": "2024-02-08T15:16:56.696674200Z",
     "start_time": "2024-02-08T15:16:56.430936400Z"
    }
   },
   "outputs": [],
   "source": [
    "import os\n",
    "\n",
    "import pandas as pd\n",
    "import numpy as np\n"
   ]
  },
  {
   "cell_type": "code",
   "execution_count": 6,
   "outputs": [
    {
     "data": {
      "text/plain": "         image_Addr  label_image\n0  100120000004.jpg            4\n1  100150000077.jpg            5\n2  100120000027.jpg            4\n3   10030000008.jpg            1\n4   10030000045.jpg            1",
      "text/html": "<div>\n<style scoped>\n    .dataframe tbody tr th:only-of-type {\n        vertical-align: middle;\n    }\n\n    .dataframe tbody tr th {\n        vertical-align: top;\n    }\n\n    .dataframe thead th {\n        text-align: right;\n    }\n</style>\n<table border=\"1\" class=\"dataframe\">\n  <thead>\n    <tr style=\"text-align: right;\">\n      <th></th>\n      <th>image_Addr</th>\n      <th>label_image</th>\n    </tr>\n  </thead>\n  <tbody>\n    <tr>\n      <th>0</th>\n      <td>100120000004.jpg</td>\n      <td>4</td>\n    </tr>\n    <tr>\n      <th>1</th>\n      <td>100150000077.jpg</td>\n      <td>5</td>\n    </tr>\n    <tr>\n      <th>2</th>\n      <td>100120000027.jpg</td>\n      <td>4</td>\n    </tr>\n    <tr>\n      <th>3</th>\n      <td>10030000008.jpg</td>\n      <td>1</td>\n    </tr>\n    <tr>\n      <th>4</th>\n      <td>10030000045.jpg</td>\n      <td>1</td>\n    </tr>\n  </tbody>\n</table>\n</div>"
     },
     "execution_count": 6,
     "metadata": {},
     "output_type": "execute_result"
    }
   ],
   "source": [
    "df = pd.read_csv(\"../data/x_ray/labels_x_ray.csv\")\n",
    "df.head()"
   ],
   "metadata": {
    "collapsed": false,
    "ExecuteTime": {
     "end_time": "2024-02-08T15:17:37.408174800Z",
     "start_time": "2024-02-08T15:17:37.373177200Z"
    }
   },
   "id": "c19e3fe386d03a31"
  },
  {
   "cell_type": "code",
   "execution_count": 7,
   "outputs": [
    {
     "data": {
      "text/plain": "<Axes: xlabel='label_image'>"
     },
     "execution_count": 7,
     "metadata": {},
     "output_type": "execute_result"
    },
    {
     "data": {
      "text/plain": "<Figure size 640x480 with 1 Axes>",
      "image/png": "[encoded data removed]"
     },
     "metadata": {},
     "output_type": "display_data"
    }
   ],
   "source": [
    "df[['label_image']].value_counts().plot(kind='bar')"
   ],
   "metadata": {
    "collapsed": false,
    "ExecuteTime": {
     "end_time": "2024-02-08T15:17:41.492755100Z",
     "start_time": "2024-02-08T15:17:41.148754Z"
    }
   },
   "id": "3f041a546c4d5e1e"
  },
  {
   "cell_type": "markdown",
   "source": [
    "# Filter manually selected bad files"
   ],
   "metadata": {
    "collapsed": false
   },
   "id": "369c3204b8364d5f"
  },
  {
   "cell_type": "code",
   "execution_count": 8,
   "outputs": [],
   "source": [
    "import os\n",
    "\n",
    "with open(\"../data/bad_files.txt\", \"r\") as f:\n",
    "    lines = f.readlines()\n",
    "    bad_files = [l.strip() for l in lines]\n",
    "filtered_df = df[~df['image_Addr'].isin(bad_files)]"
   ],
   "metadata": {
    "collapsed": false,
    "ExecuteTime": {
     "end_time": "2024-02-08T15:18:09.543217500Z",
     "start_time": "2024-02-08T15:18:09.524217600Z"
    }
   },
   "id": "78747a683272551a"
  },
  {
   "cell_type": "markdown",
   "source": [
    "# Covert Images to Gray Scale"
   ],
   "metadata": {
    "collapsed": false
   },
   "id": "48966e15fb46b00e"
  },
  {
   "cell_type": "code",
   "execution_count": 9,
   "outputs": [
    {
     "name": "stderr",
     "output_type": "stream",
     "text": [
      "C:\\Users\\Atlas\\anaconda3\\envs\\golgohar\\lib\\site-packages\\PIL\\Image.py:970: UserWarning: Palette images with Transparency expressed in bytes should be converted to RGBA images\n",
      "  warnings.warn(\n"
     ]
    }
   ],
   "source": [
    "from PIL import Image\n",
    "from pathlib import Path\n",
    "Path(\"../data/new_x_ray\").mkdir(parents=True, exist_ok=True)\n",
    "\n",
    "for addr in filtered_df[\"image_Addr\"]:\n",
    "    img = Image.open(os.path.join(\"../data/x_ray\", addr))\n",
    "    img = img.convert('L')\n",
    "    img = img.convert('RGB')\n",
    "    img.save(os.path.join(\"../data/new_x_ray\", addr)) "
   ],
   "metadata": {
    "collapsed": false,
    "ExecuteTime": {
     "end_time": "2024-02-08T15:20:01.448486700Z",
     "start_time": "2024-02-08T15:19:43.962338600Z"
    }
   },
   "id": "defce1ea574db0e9"
  },
  {
   "cell_type": "code",
   "execution_count": null,
   "outputs": [],
   "source": [],
   "metadata": {
    "collapsed": false
   },
   "id": "1d1b680825f18df1"
  }
 ],
 "metadata": {
  "kernelspec": {
   "display_name": "Python 3",
   "language": "python",
   "name": "python3"
  },
  "language_info": {
   "codemirror_mode": {
    "name": "ipython",
    "version": 2
   },
   "file_extension": ".py",
   "mimetype": "text/x-python",
   "name": "python",
   "nbconvert_exporter": "python",
   "pygments_lexer": "ipython2",
   "version": "2.7.6"
  }
 },
 "nbformat": 4,
 "nbformat_minor": 5
}
