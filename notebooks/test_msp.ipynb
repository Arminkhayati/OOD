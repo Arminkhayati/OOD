{
 "cells": [
  {
   "cell_type": "code",
   "execution_count": 1,
   "id": "initial_id",
   "metadata": {
    "collapsed": true,
    "ExecuteTime": {
     "end_time": "2024-02-10T14:17:39.920934500Z",
     "start_time": "2024-02-10T14:17:37.890379600Z"
    }
   },
   "outputs": [],
   "source": [
    "import os\n",
    "import tensorflow as tf\n",
    "import pandas as pd\n",
    "import numpy as np\n",
    "from sklearn.model_selection import train_test_split\n",
    "from PIL import Image\n",
    "import matplotlib.pyplot as plt\n",
    "from typing import Tuple, Any"
   ]
  },
  {
   "cell_type": "markdown",
   "source": [
    "# X-Ray Image Analysis with Pre-trained Model\n",
    "\n",
    "In this notebook, we demonstrate the process of loading an X-ray dataset, filtering out unwanted files, and preparing the images for analysis with a pre-trained model. Finally, we will predict the class of X-ray images using the pre-trained model.\n",
    "\n",
    "## Load and Filter Dataset\n",
    "\n",
    "First, we load the dataset containing X-ray image labels and a list of files to be excluded from the analysis.\n",
    "\n",
    "Next, we filter the dataframe to exclude these bad files and remove any duplicates.\n",
    "\n",
    "## Prepare Data for Analysis\n",
    "\n",
    "We set the directory for the new X-ray images, adjust labels by subtracting 1 (assuming the labels start from 1), and specify the target image size.\n",
    "\n",
    "## Split Data for Validation\n",
    "\n",
    "We then split the dataset to create a validation set.\n",
    "\n",
    "## Decode Labels\n",
    "\n",
    "A dictionary is created to translate numeric labels into human-readable form.\n",
    "\n",
    "## Load Pre-trained Model\n",
    "\n",
    "We load a pre-trained VGG16 model for the analysis.\n",
    "\n",
    "## Define Utility Functions\n",
    "\n",
    "Two utility functions are defined for processing images and predicting their scores using the pre-trained model. With these steps, we can now load, process, and predict the labels of X-ray images using our pre-trained model.\n"
   ],
   "metadata": {
    "collapsed": false
   },
   "id": "2a11687de1d35b56"
  },
  {
   "cell_type": "code",
   "execution_count": 2,
   "outputs": [
    {
     "name": "stdout",
     "output_type": "stream",
     "text": [
      "Index(['image_Addr', 'label_image'], dtype='object')\n",
      "Validation Size = 153\n"
     ]
    }
   ],
   "source": [
    "# Load dataset and list of bad files to filter out\n",
    "df = pd.read_csv(\"../data/x_ray/labels_x_ray.csv\")\n",
    "with open(\"../data/bad_files.txt\", \"r\") as f:\n",
    "    lines = f.readlines()\n",
    "    bad_files = [l.strip() for l in lines]\n",
    "\n",
    "# Filter the dataframe to exclude bad files and drop duplicates\n",
    "filtered_df = df[~df['image_Addr'].isin(bad_files)].drop_duplicates()\n",
    "\n",
    "# Set directory for new X-ray images and adjust labels\n",
    "datadir = \"../data/new_x_ray\"\n",
    "num_classes = 5 \n",
    "filtered_df[['label_image']] = filtered_df[['label_image']] - 1\n",
    "img_size = 224\n",
    "batch_size = 32\n",
    "target_size = (img_size, img_size)\n",
    "print(df.columns)\n",
    "filtered_df['label_image'] = filtered_df['label_image'].apply(str)\n",
    "\n",
    "# Split the dataframe to create a validation dataset\n",
    "_, valid_files = train_test_split(filtered_df['image_Addr'],\n",
    "                                            test_size=0.25,\n",
    "                                            random_state=2024,\n",
    "                                            stratify=filtered_df['label_image'])\n",
    "\n",
    "# train_df = filtered_df[filtered_df['image_Addr'].isin(train_files)]\n",
    "valid_df = filtered_df[filtered_df['image_Addr'].isin(valid_files)]\n",
    "print(f\"Validation Size = {valid_df.shape[0]}\")\n",
    "\n",
    "# Dictionary to decode labels into human-readable form\n",
    "label_decoding = {0: \"Dandan\", 1: \"JomJome\", 2: \"Sine\", 3: \"Dast\", 4: \"Pa\"}\n",
    "\n",
    "# Load the pre-trained model\n",
    "model = tf.keras.models.load_model(\"../model/vgg16-0.96-full_model.h5\")\n",
    "\n",
    "\n",
    "def predict_score(img: np.ndarray, model: tf.keras.Model) -> np.ndarray:\n",
    "    \"\"\"\n",
    "    Predicts the score for a given image using the specified model.\n",
    "\n",
    "    Args:\n",
    "        img (np.ndarray): The image for which to predict the score.\n",
    "        model (tf.keras.Model): The pre-trained model used for prediction.\n",
    "\n",
    "    Returns:\n",
    "        np.ndarray: The predicted score for the image.\n",
    "    \"\"\"\n",
    "    score = model.predict(img)\n",
    "    return score\n",
    "\n",
    "def load_and_process(img_path: str, dir: str) -> np.ndarray:\n",
    "    \"\"\"\n",
    "    Loads an image from the specified directory, processes it, and prepares it for prediction.\n",
    "\n",
    "    Args:\n",
    "        img_path (str): The path to the image file.\n",
    "        dir (str): The directory containing the image file.\n",
    "\n",
    "    Returns:\n",
    "        np.ndarray: The processed image ready for model prediction.\n",
    "    \"\"\"\n",
    "    img = Image.open(os.path.join(dir, img_path))\n",
    "    img = img.convert('L').convert('RGB').resize(target_size)\n",
    "    img = np.array(img) / 255.0\n",
    "    img = np.expand_dims(img, axis=0)\n",
    "    return img"
   ],
   "metadata": {
    "collapsed": false,
    "ExecuteTime": {
     "end_time": "2024-02-10T14:17:41.876814400Z",
     "start_time": "2024-02-10T14:17:39.925934300Z"
    }
   },
   "id": "6ff4180fcd4a0b29"
  },
  {
   "cell_type": "markdown",
   "source": [
    "# Out-of-Distribution Detection with MSP Method\n",
    "\n",
    "In this section, we demonstrate how to use the MSP method for Out-of-Distribution (OOD) detection in image data. We first prepare our in-distribution (valid) and out-of-distribution (bad) images. Next, we compute the OOD scores for both sets of images using the MSP method. Finally, we evaluate the performance of our OOD detection and visualize the results.\n",
    "\n",
    "## Initializing the MSP Method\n",
    "\n",
    "We start by initializing the MSP-based OOD detection method and fitting it with our pre-trained model.\n",
    "\n",
    "## Preparing Images for OOD Scoring\n",
    "\n",
    "We prepare both in-distribution (valid) and out-of-distribution (bad) images for OOD scoring. This involves loading the images, processing them, and storing them in a suitable format.\n",
    "\n",
    "## Computing OOD Scores\n",
    "\n",
    "We compute the OOD scores for both sets of images using the MSP method.\n",
    "\n",
    "## Benchmarking OOD Detection Performance\n",
    "\n",
    "We use various metrics to evaluate the performance of our OOD detection method.\n",
    "\n",
    "## Visualizing OOD Detection Results\n",
    "\n",
    "Finally, we visualize the distribution of OOD scores and the ROC curve to assess the effectiveness of our OOD detection method.\n"
   ],
   "metadata": {
    "collapsed": false
   },
   "id": "c48dfbd637fef510"
  },
  {
   "cell_type": "code",
   "execution_count": 3,
   "outputs": [
    {
     "name": "stderr",
     "output_type": "stream",
     "text": [
      "C:\\Users\\Atlas\\anaconda3\\envs\\golgohar\\lib\\site-packages\\PIL\\Image.py:970: UserWarning: Palette images with Transparency expressed in bytes should be converted to RGBA images\n",
      "  warnings.warn(\n"
     ]
    },
    {
     "name": "stdout",
     "output_type": "stream",
     "text": [
      "=== Metrics ===\n",
      "auroc      0.877269\n",
      "fpr95tpr   0.274510\n",
      "\n",
      "=== Plots ===\n",
      "Threshold = -0.9902637004852295\n"
     ]
    },
    {
     "data": {
      "text/plain": "<Figure size 900x300 with 2 Axes>",
      "image/png": "[encoded data removed]"
     },
     "metadata": {},
     "output_type": "display_data"
    }
   ],
   "source": [
    "from oodeel.methods import MLS\n",
    "from oodeel.eval.metrics import bench_metrics\n",
    "from oodeel.eval.plots import plot_ood_scores, plot_roc_curve, plot_2D_features\n",
    "\n",
    "mls = MLS(output_activation=\"softmax\")\n",
    "mls.fit(model)\n",
    "mls.fit(model)\n",
    "\n",
    "# Prepare in-distribution (valid) images for OOD scoring\n",
    "images = np.zeros((len(valid_df), img_size, img_size, 3))\n",
    "for i, f in enumerate(valid_df.image_Addr):\n",
    "    img_file = load_and_process(f, \"../data/x_ray\")\n",
    "    images[i] = img_file[0]\n",
    "    \n",
    "# Compute OOD scores for in-distribution images      \n",
    "scores_in, _ = mls.score(images)\n",
    "\n",
    "# Prepare out-of-distribution (bad) images for OOD scoring\n",
    "images = np.zeros((len(bad_files), img_size, img_size, 3))\n",
    "for i, f in enumerate(bad_files):\n",
    "    img_file = load_and_process(f, \"../data/x_ray\")\n",
    "    images[i] = img_file[0]\n",
    "\n",
    "# Compute OOD scores for out-of-distribution images    \n",
    "scores_out, _ = mls.score(images)    \n",
    "\n",
    "# Benchmark the OOD detection performance using various metrics\n",
    "metrics = bench_metrics(\n",
    "    (scores_in, scores_out),\n",
    "    metrics=[\"auroc\", \"fpr95tpr\"],\n",
    ")\n",
    "\n",
    "# Display the benchmark metrics\n",
    "print(\"=== Metrics ===\")\n",
    "for k, v in metrics.items():\n",
    "    print(f\"{k:<10} {v:.6f}\")\n",
    "\n",
    "# Plot the distribution of OOD scores and ROC curve for OOD detection\n",
    "print(\"\\n=== Plots ===\")\n",
    "print(f\"Threshold = {np.percentile(scores_out, q=5.0)}\")\n",
    "# hists / roc\n",
    "plt.figure(figsize=(9, 3))\n",
    "plt.subplot(121)\n",
    "plot_ood_scores(scores_in, scores_out, log_scale=False)\n",
    "plt.subplot(122)\n",
    "plot_roc_curve(scores_in, scores_out)\n",
    "plt.tight_layout()\n",
    "plt.show()"
   ],
   "metadata": {
    "collapsed": false,
    "ExecuteTime": {
     "end_time": "2024-02-10T14:17:57.974879200Z",
     "start_time": "2024-02-10T14:17:41.875814200Z"
    }
   },
   "id": "d55ba23acab4de81"
  },
  {
   "cell_type": "code",
   "execution_count": 3,
   "outputs": [],
   "source": [],
   "metadata": {
    "collapsed": false,
    "ExecuteTime": {
     "end_time": "2024-02-10T14:17:57.991878900Z",
     "start_time": "2024-02-10T14:17:57.975878700Z"
    }
   },
   "id": "3df4ead88ebcc713"
  },
  {
   "cell_type": "code",
   "execution_count": null,
   "outputs": [],
   "source": [],
   "metadata": {
    "collapsed": false
   },
   "id": "c84542aabbf1d715"
  }
 ],
 "metadata": {
  "kernelspec": {
   "display_name": "Python 3",
   "language": "python",
   "name": "python3"
  },
  "language_info": {
   "codemirror_mode": {
    "name": "ipython",
    "version": 2
   },
   "file_extension": ".py",
   "mimetype": "text/x-python",
   "name": "python",
   "nbconvert_exporter": "python",
   "pygments_lexer": "ipython2",
   "version": "2.7.6"
  }
 },
 "nbformat": 4,
 "nbformat_minor": 5
}
